{
  "nbformat": 4,
  "nbformat_minor": 0,
  "metadata": {
    "colab": {
      "provenance": [],
      "authorship_tag": "ABX9TyNGh1rtEDMx9FErxOGCNSzo",
      "include_colab_link": true
    },
    "kernelspec": {
      "name": "python3",
      "display_name": "Python 3"
    },
    "language_info": {
      "name": "python"
    }
  },
  "cells": [
    {
      "cell_type": "markdown",
      "metadata": {
        "id": "view-in-github",
        "colab_type": "text"
      },
      "source": [
        "<a href=\"https://colab.research.google.com/github/sailsolar/pytorch/blob/main/02-pt-workflow.ipynb\" target=\"_parent\"><img src=\"https://colab.research.google.com/assets/colab-badge.svg\" alt=\"Open In Colab\"/></a>"
      ]
    },
    {
      "cell_type": "markdown",
      "source": [
        "#Workflow for ML/DL Engine\n",
        "\n",
        "Resources - 4:20:00 of https://youtu.be/Z_ikDlimN6A?si=IsTCg3TWnCYf-NcK"
      ],
      "metadata": {
        "id": "9zakhxWKt34n"
      }
    },
    {
      "cell_type": "code",
      "source": [
        "import torch\n",
        "from torch import nn # nn contains all PT's building blocks for neural networks\n",
        "import matplotlib.pyplot as plt\n",
        "\n",
        "torch.__version__ #first three nunmbers [ABC] are pytorch version and cu[XYZ] is the cuda version"
      ],
      "metadata": {
        "id": "yalYWvktwTiE",
        "outputId": "0e71c19c-ad8f-41eb-cca2-f1c8fc50d83e",
        "colab": {
          "base_uri": "https://localhost:8080/",
          "height": 35
        }
      },
      "execution_count": 3,
      "outputs": [
        {
          "output_type": "execute_result",
          "data": {
            "text/plain": [
              "'2.3.0+cu121'"
            ],
            "application/vnd.google.colaboratory.intrinsic+json": {
              "type": "string"
            }
          },
          "metadata": {},
          "execution_count": 3
        }
      ]
    },
    {
      "cell_type": "code",
      "source": [],
      "metadata": {
        "id": "4j6UqOtuw12V"
      },
      "execution_count": null,
      "outputs": []
    }
  ]
}