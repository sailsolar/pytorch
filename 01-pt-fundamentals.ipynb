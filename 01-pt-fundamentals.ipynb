{
  "nbformat": 4,
  "nbformat_minor": 0,
  "metadata": {
    "colab": {
      "provenance": [],
      "toc_visible": true,
      "gpuType": "T4",
      "authorship_tag": "ABX9TyPLsqELtwKu5Sh9cL53ZPhO",
      "include_colab_link": true
    },
    "kernelspec": {
      "name": "python3",
      "display_name": "Python 3"
    },
    "language_info": {
      "name": "python"
    },
    "accelerator": "GPU"
  },
  "cells": [
    {
      "cell_type": "markdown",
      "metadata": {
        "id": "view-in-github",
        "colab_type": "text"
      },
      "source": [
        "<a href=\"https://colab.research.google.com/github/sailsolar/pytorch/blob/main/PT101.ipynb\" target=\"_parent\"><img src=\"https://colab.research.google.com/assets/colab-badge.svg\" alt=\"Open In Colab\"/></a>"
      ]
    },
    {
      "cell_type": "markdown",
      "source": [
        "# PyTorch Fundamentals"
      ],
      "metadata": {
        "id": "6BpteDwzIBQT"
      }
    },
    {
      "cell_type": "code",
      "source": [
        "import torch"
      ],
      "metadata": {
        "id": "woav2XUHgkc8"
      },
      "execution_count": null,
      "outputs": []
    },
    {
      "cell_type": "code",
      "source": [
        "print(torch.__version__)\n"
      ],
      "metadata": {
        "colab": {
          "base_uri": "https://localhost:8080/"
        },
        "id": "rE0Qdj2yg16M",
        "outputId": "ffa85c9f-5681-4a3e-b587-6a314ba8714b"
      },
      "execution_count": null,
      "outputs": [
        {
          "output_type": "stream",
          "name": "stdout",
          "text": [
            "2.3.0+cu121\n"
          ]
        }
      ]
    },
    {
      "cell_type": "code",
      "source": [
        "import numpy as np\n",
        "import pandas as pd\n",
        "import matplotlib.pyplot as plt\n"
      ],
      "metadata": {
        "id": "bpQ4JFWGg7Sb"
      },
      "execution_count": null,
      "outputs": []
    },
    {
      "cell_type": "code",
      "source": [
        "# scalar\n",
        "scalar = torch.tensor(7)\n",
        "print(scalar)"
      ],
      "metadata": {
        "colab": {
          "base_uri": "https://localhost:8080/"
        },
        "id": "HDiyU03hhn14",
        "outputId": "1cfd95ff-4839-46a2-a64b-1713dff658e0"
      },
      "execution_count": null,
      "outputs": [
        {
          "output_type": "stream",
          "name": "stdout",
          "text": [
            "tensor(7)\n"
          ]
        }
      ]
    },
    {
      "cell_type": "code",
      "source": [
        "# Vector\n",
        "\n",
        "vector = torch.tensor([1, 2])\n",
        "print(vector.ndim)\n",
        "print(vector.shape)"
      ],
      "metadata": {
        "colab": {
          "base_uri": "https://localhost:8080/"
        },
        "id": "Fh0TkwZNh0Oh",
        "outputId": "4ccabf18-650a-4d09-f219-69a4b360878e"
      },
      "execution_count": null,
      "outputs": [
        {
          "output_type": "stream",
          "name": "stdout",
          "text": [
            "1\n",
            "torch.Size([2])\n"
          ]
        }
      ]
    },
    {
      "cell_type": "code",
      "source": [
        "# Matrix\n",
        "MATRIX = torch.tensor([[1, 2],\n",
        "                       [3, 4]])\n",
        "print(MATRIX.ndim)\n",
        "print(MATRIX.shape)"
      ],
      "metadata": {
        "id": "RYjUGS4dh2Fx",
        "colab": {
          "base_uri": "https://localhost:8080/"
        },
        "outputId": "846846b6-5466-4cf3-c9ad-c813fb7dea71"
      },
      "execution_count": null,
      "outputs": [
        {
          "output_type": "stream",
          "name": "stdout",
          "text": [
            "2\n",
            "torch.Size([2, 2])\n"
          ]
        }
      ]
    },
    {
      "cell_type": "code",
      "source": [
        "# TENSOR\n",
        "\n",
        "TENSOR = torch.tensor([[[1,2],\n",
        "                        [4,5],\n",
        "                        [7,8]]])\n",
        "print(TENSOR.ndim)\n",
        "print(TENSOR.shape)"
      ],
      "metadata": {
        "colab": {
          "base_uri": "https://localhost:8080/"
        },
        "id": "HV0LaUIwlrYJ",
        "outputId": "e24cb85e-5de3-4b4f-d722-2dee86bd0ba7"
      },
      "execution_count": null,
      "outputs": [
        {
          "output_type": "stream",
          "name": "stdout",
          "text": [
            "3\n",
            "torch.Size([1, 3, 2])\n"
          ]
        }
      ]
    },
    {
      "cell_type": "code",
      "source": [
        "print(TENSOR)"
      ],
      "metadata": {
        "colab": {
          "base_uri": "https://localhost:8080/"
        },
        "id": "zWj1uoklmKKP",
        "outputId": "d68c5d7d-0a68-4e73-b8c1-da27a78e224c"
      },
      "execution_count": null,
      "outputs": [
        {
          "output_type": "stream",
          "name": "stdout",
          "text": [
            "tensor([[[1, 2],\n",
            "         [4, 5],\n",
            "         [7, 8]]])\n"
          ]
        }
      ]
    },
    {
      "cell_type": "code",
      "source": [
        "TENSOR[0][2][0]"
      ],
      "metadata": {
        "colab": {
          "base_uri": "https://localhost:8080/"
        },
        "id": "y39j7E-6mfD-",
        "outputId": "7a65310d-745a-4f89-f0f4-ee7dd4359ba6"
      },
      "execution_count": null,
      "outputs": [
        {
          "output_type": "execute_result",
          "data": {
            "text/plain": [
              "tensor(7)"
            ]
          },
          "metadata": {},
          "execution_count": 22
        }
      ]
    },
    {
      "cell_type": "markdown",
      "source": [
        "### Random tensors"
      ],
      "metadata": {
        "id": "fT3hFDvHnbr7"
      }
    },
    {
      "cell_type": "code",
      "source": [
        "# Create a random tensor of size (3, 4)\n",
        "random_tensor = torch.rand(3, 4)\n",
        "print(random_tensor.ndim) # 2\n",
        "print(random_tensor.shape) # [3, 4]"
      ],
      "metadata": {
        "colab": {
          "base_uri": "https://localhost:8080/"
        },
        "id": "CabKt9Cumnbv",
        "outputId": "b1a1aaec-394e-49ea-b640-e7ea1efb62de"
      },
      "execution_count": null,
      "outputs": [
        {
          "output_type": "stream",
          "name": "stdout",
          "text": [
            "2\n",
            "torch.Size([3, 4])\n"
          ]
        }
      ]
    },
    {
      "cell_type": "code",
      "source": [
        "# tensor of the shape of an image\n",
        "random_image_size_tensor = torch.rand(size=(3, 608, 608))\n",
        "random_image_size_tensor.ndim, random_image_size_tensor.shape # 3, [608, 608, 3]"
      ],
      "metadata": {
        "colab": {
          "base_uri": "https://localhost:8080/"
        },
        "id": "J_LrhtjJnx4s",
        "outputId": "f5724856-9ec2-4b29-a330-c560570317fa"
      },
      "execution_count": null,
      "outputs": [
        {
          "output_type": "execute_result",
          "data": {
            "text/plain": [
              "(3, torch.Size([3, 608, 608]))"
            ]
          },
          "metadata": {},
          "execution_count": 28
        }
      ]
    },
    {
      "cell_type": "markdown",
      "source": [
        "### Zeroes and Ones"
      ],
      "metadata": {
        "id": "fcF-FRbHo9WB"
      }
    },
    {
      "cell_type": "code",
      "source": [
        "# Tensor of all Zeroes\n",
        "zeros = torch.zeros(1, 3, 4)\n",
        "print(zeros)\n",
        "zeros.ndim, zeros.shape"
      ],
      "metadata": {
        "colab": {
          "base_uri": "https://localhost:8080/"
        },
        "id": "gj-iOUaGpjFg",
        "outputId": "2cdec576-8220-4de6-9ef0-941702f2fa0c"
      },
      "execution_count": null,
      "outputs": [
        {
          "output_type": "stream",
          "name": "stdout",
          "text": [
            "tensor([[[0., 0., 0., 0.],\n",
            "         [0., 0., 0., 0.],\n",
            "         [0., 0., 0., 0.]]])\n"
          ]
        },
        {
          "output_type": "execute_result",
          "data": {
            "text/plain": [
              "(3, torch.Size([1, 3, 4]))"
            ]
          },
          "metadata": {},
          "execution_count": 35
        }
      ]
    },
    {
      "cell_type": "code",
      "source": [
        "# Tensor of all Ones\n",
        "ones = torch.ones(size=(4, 5))\n",
        "print(ones)\n",
        "ones.ndim, ones.shape\n",
        "ones.dtype"
      ],
      "metadata": {
        "colab": {
          "base_uri": "https://localhost:8080/"
        },
        "id": "7kEQoRK0ppI_",
        "outputId": "4bea9007-95ae-4451-a34c-eaf42e106213"
      },
      "execution_count": null,
      "outputs": [
        {
          "output_type": "stream",
          "name": "stdout",
          "text": [
            "tensor([[1., 1., 1., 1., 1.],\n",
            "        [1., 1., 1., 1., 1.],\n",
            "        [1., 1., 1., 1., 1.],\n",
            "        [1., 1., 1., 1., 1.]])\n"
          ]
        },
        {
          "output_type": "execute_result",
          "data": {
            "text/plain": [
              "torch.float32"
            ]
          },
          "metadata": {},
          "execution_count": 36
        }
      ]
    },
    {
      "cell_type": "markdown",
      "source": [
        "### Create range of tensors and tensor-like"
      ],
      "metadata": {
        "id": "uVzAWI5Sp6kN"
      }
    },
    {
      "cell_type": "code",
      "source": [
        "one_to_ten = torch.arange(start=1, end=11, step=1)\n",
        "one_to_ten"
      ],
      "metadata": {
        "colab": {
          "base_uri": "https://localhost:8080/"
        },
        "id": "OqJW8V2lqcvT",
        "outputId": "693d3123-32a5-4ed7-bbac-796cf1515a7f"
      },
      "execution_count": null,
      "outputs": [
        {
          "output_type": "execute_result",
          "data": {
            "text/plain": [
              "tensor([ 1,  2,  3,  4,  5,  6,  7,  8,  9, 10])"
            ]
          },
          "metadata": {},
          "execution_count": 39
        }
      ]
    },
    {
      "cell_type": "code",
      "source": [
        "# To create a tensor like something else (like method)\n",
        "ten_zeros = torch.zeros_like(input=one_to_ten)\n",
        "ten_zeros"
      ],
      "metadata": {
        "colab": {
          "base_uri": "https://localhost:8080/"
        },
        "id": "H2BHQhSTrBvU",
        "outputId": "d05653fd-6843-48ae-aa53-3eedf481bd16"
      },
      "execution_count": null,
      "outputs": [
        {
          "output_type": "execute_result",
          "data": {
            "text/plain": [
              "tensor([0, 0, 0, 0, 0, 0, 0, 0, 0, 0])"
            ]
          },
          "metadata": {},
          "execution_count": 42
        }
      ]
    },
    {
      "cell_type": "markdown",
      "source": [
        "### Tensor Datatypes\n",
        "\n",
        "#### Biggest Errors in Deep Learning\n",
        "\n",
        "1. Tensor not right datatype\n",
        "(Precision in Computing)\n",
        "2. Tensor not right shape\n",
        "3. Tensor not on the right device\n",
        "\n",
        "`device None = CPU`\n",
        "\n",
        "`device cuda = GPU`\n",
        "\n",
        "`required_grads = if we need PyTorch to track the gradients`"
      ],
      "metadata": {
        "id": "sjwoRnTyrVtP"
      }
    },
    {
      "cell_type": "code",
      "source": [
        "flt_32_tensor = torch.tensor([1, 3, 4],\n",
        "                           dtype=torch.float32,\n",
        "                           device=None,\n",
        "                           requires_grad=False)\n",
        "\n",
        "# device None = CPU\n",
        "# device cuda = GPU\n",
        "# required_grads = if we need PyTorch to track the gradients"
      ],
      "metadata": {
        "id": "4t16pWKNug9t"
      },
      "execution_count": null,
      "outputs": []
    },
    {
      "cell_type": "code",
      "source": [
        "print(flt_32_tensor.shape, flt_32_tensor.ndim)\n",
        "print(flt_32_tensor.dtype)"
      ],
      "metadata": {
        "colab": {
          "base_uri": "https://localhost:8080/"
        },
        "id": "jfMdfsdkuq9o",
        "outputId": "7d9f8349-c599-4ff2-e0ea-dcda6494497f"
      },
      "execution_count": null,
      "outputs": [
        {
          "output_type": "stream",
          "name": "stdout",
          "text": [
            "torch.Size([3]) 1\n",
            "torch.float32\n"
          ]
        }
      ]
    },
    {
      "cell_type": "code",
      "source": [
        "# Convert one tensor of specific type to another tensor of different type\n",
        "\n",
        "flt_16_tensor = flt_32_tensor.type(torch.long)\n",
        "flt_16_tensor.dtype"
      ],
      "metadata": {
        "colab": {
          "base_uri": "https://localhost:8080/"
        },
        "id": "kfCZ7MI9u4iR",
        "outputId": "037eb1c9-19d0-45da-b5b6-7bb812c6cad0"
      },
      "execution_count": null,
      "outputs": [
        {
          "output_type": "execute_result",
          "data": {
            "text/plain": [
              "torch.int64"
            ]
          },
          "metadata": {},
          "execution_count": 85
        }
      ]
    },
    {
      "cell_type": "code",
      "source": [
        "flt_16_tensor * flt_32_tensor"
      ],
      "metadata": {
        "colab": {
          "base_uri": "https://localhost:8080/"
        },
        "id": "dSOe-Ns7xGtX",
        "outputId": "c5653cdc-2425-400b-ea65-0cf154e579a5"
      },
      "execution_count": null,
      "outputs": [
        {
          "output_type": "execute_result",
          "data": {
            "text/plain": [
              "tensor([ 1.,  9., 16.], dtype=torch.float64)"
            ]
          },
          "metadata": {},
          "execution_count": 80
        }
      ]
    },
    {
      "cell_type": "code",
      "source": [
        "int_32_tensor = torch.tensor([1, 3, 4], dtype=torch.int32, device=None, requires_grad=False)\n",
        "int_32_tensor"
      ],
      "metadata": {
        "colab": {
          "base_uri": "https://localhost:8080/"
        },
        "id": "wtyBlQnmx_Gl",
        "outputId": "90468e41-2de8-4482-9977-e5bc2e615cbf"
      },
      "execution_count": null,
      "outputs": [
        {
          "output_type": "execute_result",
          "data": {
            "text/plain": [
              "tensor([1, 3, 4], dtype=torch.int32)"
            ]
          },
          "metadata": {},
          "execution_count": 83
        }
      ]
    },
    {
      "cell_type": "code",
      "source": [
        "int_32_tensor * flt_16_tensor"
      ],
      "metadata": {
        "colab": {
          "base_uri": "https://localhost:8080/"
        },
        "id": "zwaTCwRjykT_",
        "outputId": "4b9876a3-8827-4dd0-fb8c-2ff64896f1a1"
      },
      "execution_count": null,
      "outputs": [
        {
          "output_type": "execute_result",
          "data": {
            "text/plain": [
              "tensor([ 1.,  9., 16.], dtype=torch.float64)"
            ]
          },
          "metadata": {},
          "execution_count": 84
        }
      ]
    },
    {
      "cell_type": "markdown",
      "source": [
        "### Getting information from tensors\n",
        "1. how to check datatype: `tensor.dtype`\n",
        "2. how to check shape: `tensor.shape`\n",
        "3. how to check device: `tensor.device`"
      ],
      "metadata": {
        "id": "3u3gWHUJy0k4"
      }
    },
    {
      "cell_type": "code",
      "source": [
        "print(f'Tensor datatype = {flt_16_tensor.dtype}')\n",
        "print(f'Tensor shape = {flt_16_tensor.shape}')\n",
        "print(f'Tensor on device = {flt_16_tensor.device}')"
      ],
      "metadata": {
        "colab": {
          "base_uri": "https://localhost:8080/"
        },
        "id": "GTLHhvCC0OuU",
        "outputId": "d3bf08e0-dbab-42c2-9213-3328ce8532fa"
      },
      "execution_count": null,
      "outputs": [
        {
          "output_type": "stream",
          "name": "stdout",
          "text": [
            "Tensor datatype = torch.int64\n",
            "Tensor shape = torch.Size([3])\n",
            "Tensor on device = cpu\n"
          ]
        }
      ]
    },
    {
      "cell_type": "markdown",
      "source": [
        "### Manipulating Tensors\n",
        "\n",
        "Tensor operations:\n",
        "* Addition\n",
        "* Subtraction\n",
        "* Multiplication (element-wise)\n",
        "* Division\n",
        "* Matrix Multiplication\n"
      ],
      "metadata": {
        "id": "PvUUjXWh0h-8"
      }
    },
    {
      "cell_type": "code",
      "source": [
        "# Create a tensor\n",
        "tensor = torch.tensor([1, 2, 3])\n",
        "tensor + 10"
      ],
      "metadata": {
        "colab": {
          "base_uri": "https://localhost:8080/"
        },
        "id": "uNIu9nJG0wCP",
        "outputId": "fc08cb07-45e1-4fe0-b939-3d999fd0fdf5"
      },
      "execution_count": null,
      "outputs": [
        {
          "output_type": "execute_result",
          "data": {
            "text/plain": [
              "tensor([11, 12, 13])"
            ]
          },
          "metadata": {},
          "execution_count": 90
        }
      ]
    },
    {
      "cell_type": "code",
      "source": [
        "tensor * 10"
      ],
      "metadata": {
        "colab": {
          "base_uri": "https://localhost:8080/"
        },
        "id": "Eh13CL8w1HYu",
        "outputId": "3eca11e3-7f57-4da0-f19c-60aa316c872e"
      },
      "execution_count": null,
      "outputs": [
        {
          "output_type": "execute_result",
          "data": {
            "text/plain": [
              "tensor([10, 20, 30])"
            ]
          },
          "metadata": {},
          "execution_count": 91
        }
      ]
    },
    {
      "cell_type": "code",
      "source": [
        "tensor / 2"
      ],
      "metadata": {
        "colab": {
          "base_uri": "https://localhost:8080/"
        },
        "id": "-WHle-bp1NRC",
        "outputId": "68bca2ae-c145-4861-f6d4-e237f3f1a588"
      },
      "execution_count": null,
      "outputs": [
        {
          "output_type": "execute_result",
          "data": {
            "text/plain": [
              "tensor([0.5000, 1.0000, 1.5000])"
            ]
          },
          "metadata": {},
          "execution_count": 94
        }
      ]
    },
    {
      "cell_type": "code",
      "source": [
        "tensor - 10"
      ],
      "metadata": {
        "colab": {
          "base_uri": "https://localhost:8080/"
        },
        "id": "X8ViSqqz1PN0",
        "outputId": "8b60fc67-9b00-49b0-a6f2-d7174fd5d363"
      },
      "execution_count": null,
      "outputs": [
        {
          "output_type": "execute_result",
          "data": {
            "text/plain": [
              "tensor([-9, -8, -7])"
            ]
          },
          "metadata": {},
          "execution_count": 95
        }
      ]
    },
    {
      "cell_type": "code",
      "source": [
        "torch.mul(tensor, 10)"
      ],
      "metadata": {
        "colab": {
          "base_uri": "https://localhost:8080/"
        },
        "id": "AiULKgnK1Uio",
        "outputId": "5dc7c919-5702-4540-c5fd-23bc063f0d50"
      },
      "execution_count": null,
      "outputs": [
        {
          "output_type": "execute_result",
          "data": {
            "text/plain": [
              "tensor([10, 20, 30])"
            ]
          },
          "metadata": {},
          "execution_count": 96
        }
      ]
    },
    {
      "cell_type": "code",
      "source": [
        "torch.add(tensor, 10)"
      ],
      "metadata": {
        "colab": {
          "base_uri": "https://localhost:8080/"
        },
        "id": "DXI33OPn1afR",
        "outputId": "325a1ff2-864d-4551-c190-af52ef3e0682"
      },
      "execution_count": null,
      "outputs": [
        {
          "output_type": "execute_result",
          "data": {
            "text/plain": [
              "tensor([11, 12, 13])"
            ]
          },
          "metadata": {},
          "execution_count": 98
        }
      ]
    },
    {
      "cell_type": "code",
      "source": [
        "torch.divide(tensor, 2)"
      ],
      "metadata": {
        "colab": {
          "base_uri": "https://localhost:8080/"
        },
        "id": "vmGW9og-1fB2",
        "outputId": "168c9f7b-49dd-4a7a-8ca8-59cb9b04d0be"
      },
      "execution_count": null,
      "outputs": [
        {
          "output_type": "execute_result",
          "data": {
            "text/plain": [
              "tensor([0.5000, 1.0000, 1.5000])"
            ]
          },
          "metadata": {},
          "execution_count": 101
        }
      ]
    },
    {
      "cell_type": "code",
      "source": [
        "torch.subtract(tensor, 1)"
      ],
      "metadata": {
        "colab": {
          "base_uri": "https://localhost:8080/"
        },
        "id": "xT2Upq1G1lyq",
        "outputId": "6c36533a-22ac-4a0c-b2aa-9620eaabbdae"
      },
      "execution_count": null,
      "outputs": [
        {
          "output_type": "execute_result",
          "data": {
            "text/plain": [
              "tensor([0, 1, 2])"
            ]
          },
          "metadata": {},
          "execution_count": 100
        }
      ]
    },
    {
      "cell_type": "markdown",
      "source": [
        "### Matrix multiplication\n",
        "1. Element-wise\n",
        "2. Matrix multiplication (dot product)"
      ],
      "metadata": {
        "id": "07TwXMUW1vEk"
      }
    },
    {
      "cell_type": "code",
      "source": [
        "%%time\n",
        "torch.matmul(tensor, tensor)"
      ],
      "metadata": {
        "colab": {
          "base_uri": "https://localhost:8080/"
        },
        "id": "bKe0fS-i2D27",
        "outputId": "ae6b565a-272d-415b-9460-67d42a872fb0"
      },
      "execution_count": null,
      "outputs": [
        {
          "output_type": "stream",
          "name": "stdout",
          "text": [
            "CPU times: user 541 µs, sys: 0 ns, total: 541 µs\n",
            "Wall time: 417 µs\n"
          ]
        },
        {
          "output_type": "execute_result",
          "data": {
            "text/plain": [
              "tensor(14)"
            ]
          },
          "metadata": {},
          "execution_count": 105
        }
      ]
    },
    {
      "cell_type": "code",
      "source": [
        "tensor * tensor"
      ],
      "metadata": {
        "colab": {
          "base_uri": "https://localhost:8080/"
        },
        "id": "I7StApw62zMr",
        "outputId": "0957e9d8-3e4f-48bd-fe97-4ca9372e883c"
      },
      "execution_count": null,
      "outputs": [
        {
          "output_type": "execute_result",
          "data": {
            "text/plain": [
              "tensor([1, 4, 9])"
            ]
          },
          "metadata": {},
          "execution_count": 104
        }
      ]
    },
    {
      "cell_type": "markdown",
      "source": [
        "### Rules to satisfy for large scale matmul\n",
        "1. The **inner dimensions** must match\n",
        "2. The resulting matrix has the shape of **outer dimensions**"
      ],
      "metadata": {
        "id": "ubUT3VqF28Cu"
      }
    },
    {
      "cell_type": "code",
      "source": [
        "torch.matmul(torch.rand(size=(2, 3)), torch.rand(size=(3,4))).shape"
      ],
      "metadata": {
        "colab": {
          "base_uri": "https://localhost:8080/"
        },
        "id": "melwD-sr_PSR",
        "outputId": "e2cc3ae1-ee6a-498b-9319-c715ea465f4a"
      },
      "execution_count": null,
      "outputs": [
        {
          "output_type": "execute_result",
          "data": {
            "text/plain": [
              "torch.Size([2, 4])"
            ]
          },
          "metadata": {},
          "execution_count": 110
        }
      ]
    },
    {
      "cell_type": "code",
      "source": [],
      "metadata": {
        "colab": {
          "base_uri": "https://localhost:8080/"
        },
        "id": "sva32eFJ_RYd",
        "outputId": "35860bcf-8144-4fb7-b908-30c13753a7c4"
      },
      "execution_count": null,
      "outputs": [
        {
          "output_type": "execute_result",
          "data": {
            "text/plain": [
              "tensor([[0.0115, 0.1587, 0.3160, 0.5427],\n",
              "        [0.1504, 0.7179, 0.7909, 0.2236],\n",
              "        [0.3684, 0.2626, 0.1996, 0.0181]])"
            ]
          },
          "metadata": {},
          "execution_count": 109
        }
      ]
    },
    {
      "cell_type": "code",
      "source": [
        "## TRANSPOSE\n",
        "tensor_A = torch.tensor([[1, 2],\n",
        "                         [3, 4],\n",
        "                         [5, 6]])\n",
        "tensor_B = torch.tensor([[7, 8],\n",
        "                         [9, 10],\n",
        "                         [11, 12]])\n",
        "\n",
        "tensor_A.shape, tensor_B.shape"
      ],
      "metadata": {
        "colab": {
          "base_uri": "https://localhost:8080/"
        },
        "id": "DZiKBQcQ_W8m",
        "outputId": "2ed0dfc7-de0b-4166-c35f-e43816d80f99"
      },
      "execution_count": null,
      "outputs": [
        {
          "output_type": "execute_result",
          "data": {
            "text/plain": [
              "(torch.Size([3, 2]), torch.Size([3, 2]))"
            ]
          },
          "metadata": {},
          "execution_count": 115
        }
      ]
    },
    {
      "cell_type": "code",
      "source": [
        "torch.mm(tensor_A.T, tensor_B)"
      ],
      "metadata": {
        "colab": {
          "base_uri": "https://localhost:8080/"
        },
        "id": "48Ecr19nBjvi",
        "outputId": "2517ce51-cfba-4ad0-9bb4-c1f3685a58f4"
      },
      "execution_count": null,
      "outputs": [
        {
          "output_type": "execute_result",
          "data": {
            "text/plain": [
              "tensor([[ 89,  98],\n",
              "        [116, 128]])"
            ]
          },
          "metadata": {},
          "execution_count": 120
        }
      ]
    },
    {
      "cell_type": "markdown",
      "source": [
        "### Tensor Aggregation\n",
        "min, max, mean, sum, etc."
      ],
      "metadata": {
        "id": "uz-ykIpLCUOO"
      }
    },
    {
      "cell_type": "code",
      "source": [
        "x = torch.arange(start=0, end=100, step=10)\n",
        "\n",
        "# torch.min or x.min"
      ],
      "metadata": {
        "id": "JRh26QxYDQzH"
      },
      "execution_count": null,
      "outputs": []
    },
    {
      "cell_type": "code",
      "source": [
        "# Min\n",
        "print(f'Min of x = {x.min()}')\n",
        "# Max\n",
        "print(f'Min of x = {x.max()}')\n",
        "# Sum\n",
        "print(f'Sum of x  = {x.sum()}')\n",
        "# Mean\n",
        "print(f'Mean of x = {torch.mean(x.type(torch.float32))}') # Error: Tensor is not of correct data type"
      ],
      "metadata": {
        "colab": {
          "base_uri": "https://localhost:8080/"
        },
        "id": "DIYSa-SvDWTy",
        "outputId": "4aa1f98d-b4e2-4bd8-ee1c-a2bcd070f0d1"
      },
      "execution_count": null,
      "outputs": [
        {
          "output_type": "stream",
          "name": "stdout",
          "text": [
            "Min of x = 0\n",
            "Min of x = 90\n",
            "Sum of x  = 450\n",
            "Mean of x = 45.0\n"
          ]
        }
      ]
    },
    {
      "cell_type": "code",
      "source": [
        "### Finding positional min\n",
        "x.argmin()"
      ],
      "metadata": {
        "colab": {
          "base_uri": "https://localhost:8080/"
        },
        "id": "ZPXYs0WjEC0M",
        "outputId": "7461c83e-62cf-4f84-a519-0a312a09d0e9"
      },
      "execution_count": null,
      "outputs": [
        {
          "output_type": "execute_result",
          "data": {
            "text/plain": [
              "tensor(0)"
            ]
          },
          "metadata": {},
          "execution_count": 148
        }
      ]
    },
    {
      "cell_type": "code",
      "source": [
        "### Finding positional max\n",
        "x.argmax()"
      ],
      "metadata": {
        "colab": {
          "base_uri": "https://localhost:8080/"
        },
        "id": "vQY_6GHnFRbJ",
        "outputId": "a9dad217-c5d1-4cef-b6c4-aa0ab8cb292b"
      },
      "execution_count": null,
      "outputs": [
        {
          "output_type": "execute_result",
          "data": {
            "text/plain": [
              "tensor(9)"
            ]
          },
          "metadata": {},
          "execution_count": 149
        }
      ]
    },
    {
      "cell_type": "markdown",
      "source": [
        "### Reshaping (Views), stacking (vstack, hstack), squeezing and unsquezze tensors\n",
        "* Reshape - reshape tensor (has to be compatible with original size)\n",
        "* View (keep same memory)\n",
        "* Stacking: Vertical stack (on top of each other), hstack (side by side)\n",
        "* Squeeze - remove all `1` dimensions from the target tensor\n",
        "* Unsqueeze - add a `1` dimenstion to a target tensor\n",
        "* Permute - Return a view of the input with dimensions permuted (swapped) in a certain way\n",
        "\n"
      ],
      "metadata": {
        "id": "Z2Yf_OZkFU9_"
      }
    },
    {
      "cell_type": "code",
      "source": [
        "x = torch.arange(1, 10).type(torch.float32)\n",
        "x, x.shape"
      ],
      "metadata": {
        "colab": {
          "base_uri": "https://localhost:8080/"
        },
        "id": "o-zDdHx5FXUp",
        "outputId": "a323a190-cd1b-4a9e-b251-8f8906d8d0d0"
      },
      "execution_count": null,
      "outputs": [
        {
          "output_type": "execute_result",
          "data": {
            "text/plain": [
              "(tensor([1., 2., 3., 4., 5., 6., 7., 8., 9.]), torch.Size([9]))"
            ]
          },
          "metadata": {},
          "execution_count": 155
        }
      ]
    },
    {
      "cell_type": "code",
      "source": [
        "# Add extra dimension\n",
        "x_reshaped = x.reshape(1, 9)\n",
        "x_reshaped, x_reshaped.shape"
      ],
      "metadata": {
        "colab": {
          "base_uri": "https://localhost:8080/"
        },
        "id": "nqBWcI2QJacl",
        "outputId": "0c04bfaf-11fa-4a64-c193-71d880307c2b"
      },
      "execution_count": null,
      "outputs": [
        {
          "output_type": "execute_result",
          "data": {
            "text/plain": [
              "(tensor([[1., 2., 3., 4., 5., 6., 7., 8., 9.]]), torch.Size([1, 9]))"
            ]
          },
          "metadata": {},
          "execution_count": 159
        }
      ]
    },
    {
      "cell_type": "code",
      "source": [
        "# Change the view (Share same memory as x)\n",
        "z = x.view(1, 9)\n",
        "z, z.shape\n",
        "z[:, 0] = 5\n",
        "z, x"
      ],
      "metadata": {
        "colab": {
          "base_uri": "https://localhost:8080/"
        },
        "id": "reewegZJJnw-",
        "outputId": "37062713-4782-4e6b-fbda-404e55f353c6"
      },
      "execution_count": null,
      "outputs": [
        {
          "output_type": "execute_result",
          "data": {
            "text/plain": [
              "(tensor([[5., 2., 3., 4., 5., 6., 7., 8., 9.]]),\n",
              " tensor([5., 2., 3., 4., 5., 6., 7., 8., 9.]))"
            ]
          },
          "metadata": {},
          "execution_count": 168
        }
      ]
    },
    {
      "cell_type": "code",
      "source": [
        "# Stack tensors on top of each other\n",
        "x_stacked = torch.stack([x, x, x, x], dim=1)\n",
        "x_stacked"
      ],
      "metadata": {
        "colab": {
          "base_uri": "https://localhost:8080/"
        },
        "id": "M9x1P-4DK07v",
        "outputId": "d5c4ae66-406b-4ae5-d781-58a422efc987"
      },
      "execution_count": null,
      "outputs": [
        {
          "output_type": "execute_result",
          "data": {
            "text/plain": [
              "tensor([[5., 5., 5., 5.],\n",
              "        [2., 2., 2., 2.],\n",
              "        [3., 3., 3., 3.],\n",
              "        [4., 4., 4., 4.],\n",
              "        [5., 5., 5., 5.],\n",
              "        [6., 6., 6., 6.],\n",
              "        [7., 7., 7., 7.],\n",
              "        [8., 8., 8., 8.],\n",
              "        [9., 9., 9., 9.]])"
            ]
          },
          "metadata": {},
          "execution_count": 171
        }
      ]
    },
    {
      "cell_type": "code",
      "source": [],
      "metadata": {
        "colab": {
          "base_uri": "https://localhost:8080/"
        },
        "id": "pcFzPYx6LR4S",
        "outputId": "b7e050b2-84bc-408d-c4a1-2985c4700c70"
      },
      "execution_count": null,
      "outputs": [
        {
          "output_type": "execute_result",
          "data": {
            "text/plain": [
              "tensor([[5., 2., 3., 4., 5., 6., 7., 8., 9.],\n",
              "        [5., 2., 3., 4., 5., 6., 7., 8., 9.],\n",
              "        [5., 2., 3., 4., 5., 6., 7., 8., 9.],\n",
              "        [5., 2., 3., 4., 5., 6., 7., 8., 9.]])"
            ]
          },
          "metadata": {},
          "execution_count": 173
        }
      ]
    },
    {
      "cell_type": "code",
      "source": [
        "# Squeeze (Removes all single dimensions )\n",
        "x_squeeze = torch.squeeze(x_reshaped)\n",
        "x_reshaped, x_squeeze"
      ],
      "metadata": {
        "colab": {
          "base_uri": "https://localhost:8080/"
        },
        "id": "44Spo81qLdCr",
        "outputId": "9134c08e-cc15-4ac1-d93c-767766393f1a"
      },
      "execution_count": null,
      "outputs": [
        {
          "output_type": "execute_result",
          "data": {
            "text/plain": [
              "(tensor([[5., 2., 3., 4., 5., 6., 7., 8., 9.]]),\n",
              " tensor([5., 2., 3., 4., 5., 6., 7., 8., 9.]))"
            ]
          },
          "metadata": {},
          "execution_count": 184
        }
      ]
    },
    {
      "cell_type": "code",
      "source": [
        "# Unsqueeze (Add a single dimension)\n",
        "x_unsqueeze = torch.unsqueeze(x_reshaped, dim=0)\n",
        "x_unsqueeze"
      ],
      "metadata": {
        "colab": {
          "base_uri": "https://localhost:8080/"
        },
        "id": "I7p2nWEnLstH",
        "outputId": "88b4bcf4-8130-4d8c-c3a7-c6f7d5786f1f"
      },
      "execution_count": null,
      "outputs": [
        {
          "output_type": "execute_result",
          "data": {
            "text/plain": [
              "tensor([[[5., 2., 3., 4., 5., 6., 7., 8., 9.]]])"
            ]
          },
          "metadata": {},
          "execution_count": 198
        }
      ]
    },
    {
      "cell_type": "code",
      "source": [
        "print(f'Original tensor shape: {x.shape}')\n",
        "print(f'Reshaped tensor shape: {x_reshaped.shape}')\n",
        "print(f'Stacked tensor shape: {x_stacked.shape}')\n",
        "print(f'Squeezed reshaped_tensor shape: {x_squeeze.shape}')\n",
        "print(f'Unsqueezed reshaped_tensor shape: {x_unsqueeze.shape}')"
      ],
      "metadata": {
        "colab": {
          "base_uri": "https://localhost:8080/"
        },
        "id": "jQ2P91lQMqiO",
        "outputId": "f5c23ceb-34ff-42a3-b034-262ffe7a92ac"
      },
      "execution_count": null,
      "outputs": [
        {
          "output_type": "stream",
          "name": "stdout",
          "text": [
            "Original tensor shape: torch.Size([9])\n",
            "Reshaped tensor shape: torch.Size([1, 9])\n",
            "Stacked tensor shape: torch.Size([9, 4])\n",
            "Squeezed reshaped_tensor shape: torch.Size([9])\n",
            "Unsqueezed reshaped_tensor shape: torch.Size([1, 1, 9])\n"
          ]
        }
      ]
    },
    {
      "cell_type": "code",
      "source": [
        "# Permute (rearrange dimensions in a specified format)\n",
        "x_original = torch.rand(size=(224, 224, 3))\n",
        "x_permuted = torch.permute(x_original, (2, 0, 1))"
      ],
      "metadata": {
        "id": "pVstVO0nNt1R"
      },
      "execution_count": null,
      "outputs": []
    },
    {
      "cell_type": "code",
      "source": [
        "print(f'Tensor shape before permute: {x_original.shape}')\n",
        "print(f'Tensor shape after permute: {x_permuted.shape}')"
      ],
      "metadata": {
        "colab": {
          "base_uri": "https://localhost:8080/"
        },
        "id": "SzL8jaikPsMK",
        "outputId": "2773291d-ba64-410e-df2f-5721be2c28a5"
      },
      "execution_count": null,
      "outputs": [
        {
          "output_type": "stream",
          "name": "stdout",
          "text": [
            "Tensor shape before permute: torch.Size([224, 224, 3])\n",
            "Tensor shape after permute: torch.Size([3, 224, 224])\n"
          ]
        }
      ]
    },
    {
      "cell_type": "markdown",
      "source": [
        "### Indexing (selecting data from Tensors)\n",
        "\n",
        "Indexing in PyTorch is same as NumPy"
      ],
      "metadata": {
        "id": "F33lhCHFPsPF"
      }
    },
    {
      "cell_type": "code",
      "source": [
        "x = torch.arange(1, 10).reshape(1, 3, 3)"
      ],
      "metadata": {
        "id": "N-2KuSiBPsUN"
      },
      "execution_count": null,
      "outputs": []
    },
    {
      "cell_type": "code",
      "source": [
        "# Indexing on the most outer bracket/dim\n",
        "x[0]"
      ],
      "metadata": {
        "colab": {
          "base_uri": "https://localhost:8080/"
        },
        "id": "h6Q-oL_yPsW8",
        "outputId": "ab4974cc-37aa-46d5-ac7d-5d9d4404044d"
      },
      "execution_count": null,
      "outputs": [
        {
          "output_type": "execute_result",
          "data": {
            "text/plain": [
              "tensor([[1, 2, 3],\n",
              "        [4, 5, 6],\n",
              "        [7, 8, 9]])"
            ]
          },
          "metadata": {},
          "execution_count": 222
        }
      ]
    },
    {
      "cell_type": "code",
      "source": [
        "# Indexing on the middle bracket/dim\n",
        "x[0][1]"
      ],
      "metadata": {
        "colab": {
          "base_uri": "https://localhost:8080/"
        },
        "id": "WaeCh8NIVK60",
        "outputId": "aaa49cd1-78b7-4b11-dc0a-13c218216b46"
      },
      "execution_count": null,
      "outputs": [
        {
          "output_type": "execute_result",
          "data": {
            "text/plain": [
              "tensor([4, 5, 6])"
            ]
          },
          "metadata": {},
          "execution_count": 225
        }
      ]
    },
    {
      "cell_type": "code",
      "source": [
        "# Indexing on the inner most dimension/bracket\n",
        "x[0][2][2]"
      ],
      "metadata": {
        "colab": {
          "base_uri": "https://localhost:8080/"
        },
        "id": "zyo4g-1LPsaD",
        "outputId": "040d0dbf-4fe5-4115-ceb4-d0d498b40acc"
      },
      "execution_count": null,
      "outputs": [
        {
          "output_type": "execute_result",
          "data": {
            "text/plain": [
              "torch.Size([])"
            ]
          },
          "metadata": {},
          "execution_count": 238
        }
      ]
    },
    {
      "cell_type": "code",
      "source": [
        "# Use : to get all of the target dimension\n",
        "x[:, 1, 2]"
      ],
      "metadata": {
        "colab": {
          "base_uri": "https://localhost:8080/"
        },
        "id": "ZeajQ-VZU0xE",
        "outputId": "993ca312-9da9-4c40-c493-9daa980d5ebc"
      },
      "execution_count": null,
      "outputs": [
        {
          "output_type": "execute_result",
          "data": {
            "text/plain": [
              "tensor([6])"
            ]
          },
          "metadata": {},
          "execution_count": 233
        }
      ]
    },
    {
      "cell_type": "code",
      "source": [
        "# Get all values of 0th and 1st dimensions but only index 1 of the 2nd dimension\n",
        "x[:, :, 2]"
      ],
      "metadata": {
        "colab": {
          "base_uri": "https://localhost:8080/"
        },
        "id": "X_WivON-VycS",
        "outputId": "63c5f3a5-24b0-4b80-875f-00a2b9e2fdb5"
      },
      "execution_count": null,
      "outputs": [
        {
          "output_type": "execute_result",
          "data": {
            "text/plain": [
              "tensor([[3, 6, 9]])"
            ]
          },
          "metadata": {},
          "execution_count": 234
        }
      ]
    },
    {
      "cell_type": "code",
      "source": [
        "# Get all of 0 dim but only 1 index value of 1st and 2nd dimension\n",
        "x[:, 1, 1]"
      ],
      "metadata": {
        "colab": {
          "base_uri": "https://localhost:8080/"
        },
        "id": "SljNFmAzW4dz",
        "outputId": "335ea5ca-91d9-47d1-ad64-1ddec5b9f094"
      },
      "execution_count": null,
      "outputs": [
        {
          "output_type": "execute_result",
          "data": {
            "text/plain": [
              "torch.Size([1])"
            ]
          },
          "metadata": {},
          "execution_count": 239
        }
      ]
    },
    {
      "cell_type": "code",
      "source": [
        "# Get index 0 of 0th and 1st dimension and all values of 2nd dimension\n",
        "x[0, 0, :]"
      ],
      "metadata": {
        "colab": {
          "base_uri": "https://localhost:8080/"
        },
        "id": "nDECSAUbXPME",
        "outputId": "2f029b86-a769-44ad-9273-08c7e8eec379"
      },
      "execution_count": null,
      "outputs": [
        {
          "output_type": "execute_result",
          "data": {
            "text/plain": [
              "tensor([1, 2, 3])"
            ]
          },
          "metadata": {},
          "execution_count": 240
        }
      ]
    },
    {
      "cell_type": "markdown",
      "source": [
        "### PyTorch tensor & NumPy\n",
        " * NumPy -> PyTorch\n",
        "\n",
        " `torch.from_numpy(ndarray)`\n",
        " * PyTorch -> NumPy\n",
        "\n",
        " `torch.Tensor.numpy()`"
      ],
      "metadata": {
        "id": "x6kDwf8JXqbV"
      }
    },
    {
      "cell_type": "code",
      "source": [
        "import torch\n",
        "import numpy as np\n",
        "\n",
        "# from numPy to pyTorch\n",
        "array = np.arange(1., 8.)\n",
        "tensor = torch.from_numpy(array)\n",
        "\n",
        "array, tensor"
      ],
      "metadata": {
        "colab": {
          "base_uri": "https://localhost:8080/"
        },
        "id": "_BfsILbvZNi8",
        "outputId": "e9301d8f-32d3-4ea8-a021-0e99f02fdfe0"
      },
      "execution_count": null,
      "outputs": [
        {
          "output_type": "execute_result",
          "data": {
            "text/plain": [
              "(array([1., 2., 3., 4., 5., 6., 7.]),\n",
              " tensor([1., 2., 3., 4., 5., 6., 7.], dtype=torch.float64))"
            ]
          },
          "metadata": {},
          "execution_count": 242
        }
      ]
    },
    {
      "cell_type": "code",
      "source": [
        "tensor = tensor.type(torch.float32)"
      ],
      "metadata": {
        "id": "ZM8u41iVZf0o"
      },
      "execution_count": null,
      "outputs": []
    },
    {
      "cell_type": "code",
      "source": [
        "# From PyTorch to NumPy\n",
        "\n",
        "tensor = torch.ones(7)\n",
        "numpy_tensor = tensor.numpy()\n",
        "tensor, numpy_tensor"
      ],
      "metadata": {
        "colab": {
          "base_uri": "https://localhost:8080/"
        },
        "id": "AHS0dCeDZnHa",
        "outputId": "748e9b7e-758c-4339-b7ad-a83c63a5ba15"
      },
      "execution_count": null,
      "outputs": [
        {
          "output_type": "execute_result",
          "data": {
            "text/plain": [
              "(tensor([1., 1., 1., 1., 1., 1., 1.]),\n",
              " array([1., 1., 1., 1., 1., 1., 1.], dtype=float32))"
            ]
          },
          "metadata": {},
          "execution_count": 251
        }
      ]
    },
    {
      "cell_type": "code",
      "source": [
        "numpy_tensor.dtype"
      ],
      "metadata": {
        "colab": {
          "base_uri": "https://localhost:8080/"
        },
        "id": "8x2wGKOrapgd",
        "outputId": "a618419c-bf03-4389-916d-e160779df2c3"
      },
      "execution_count": null,
      "outputs": [
        {
          "output_type": "execute_result",
          "data": {
            "text/plain": [
              "dtype('float32')"
            ]
          },
          "metadata": {},
          "execution_count": 250
        }
      ]
    },
    {
      "cell_type": "markdown",
      "source": [
        "### Reproducibility\n",
        "\n",
        "Random seed concept"
      ],
      "metadata": {
        "id": "mAWBdnWOa-cF"
      }
    },
    {
      "cell_type": "code",
      "source": [
        "import torch\n",
        "\n",
        "MSEED = 42\n",
        "torch.manual_seed(MSEED)\n",
        "tensor_A = torch.rand(3, 4)\n",
        "\n",
        "torch.manual_seed(MSEED)\n",
        "tensor_B = torch.rand(3, 4)\n",
        "\n",
        "print(tensor_A == tensor_B)"
      ],
      "metadata": {
        "colab": {
          "base_uri": "https://localhost:8080/"
        },
        "id": "3UpcM3uLlKrb",
        "outputId": "6a541c4f-ed2c-4699-a0f1-be02b8664087"
      },
      "execution_count": null,
      "outputs": [
        {
          "output_type": "stream",
          "name": "stdout",
          "text": [
            "tensor([[True, True, True, True],\n",
            "        [True, True, True, True],\n",
            "        [True, True, True, True]])\n"
          ]
        }
      ]
    },
    {
      "cell_type": "markdown",
      "source": [
        "# Running Tensors and PT Objects on GPU\n",
        "\n",
        "### Getting a GPU\n",
        "1. Colab Free Tier\n",
        "2. Use personal GPU\n",
        "3. Use cloud computing (AWS, GCP, Azure)\n"
      ],
      "metadata": {
        "id": "jEcuwz7Rliup"
      }
    },
    {
      "cell_type": "code",
      "source": [
        "!nvidia-smi"
      ],
      "metadata": {
        "colab": {
          "base_uri": "https://localhost:8080/"
        },
        "id": "FYC07XL2lxe9",
        "outputId": "78c44227-afc5-41fa-deb2-5beb074765ad"
      },
      "execution_count": null,
      "outputs": [
        {
          "output_type": "stream",
          "name": "stdout",
          "text": [
            "Tue May 28 09:49:26 2024       \n",
            "+---------------------------------------------------------------------------------------+\n",
            "| NVIDIA-SMI 535.104.05             Driver Version: 535.104.05   CUDA Version: 12.2     |\n",
            "|-----------------------------------------+----------------------+----------------------+\n",
            "| GPU  Name                 Persistence-M | Bus-Id        Disp.A | Volatile Uncorr. ECC |\n",
            "| Fan  Temp   Perf          Pwr:Usage/Cap |         Memory-Usage | GPU-Util  Compute M. |\n",
            "|                                         |                      |               MIG M. |\n",
            "|=========================================+======================+======================|\n",
            "|   0  Tesla T4                       Off | 00000000:00:04.0 Off |                    0 |\n",
            "| N/A   56C    P8              10W /  70W |      0MiB / 15360MiB |      0%      Default |\n",
            "|                                         |                      |                  N/A |\n",
            "+-----------------------------------------+----------------------+----------------------+\n",
            "                                                                                         \n",
            "+---------------------------------------------------------------------------------------+\n",
            "| Processes:                                                                            |\n",
            "|  GPU   GI   CI        PID   Type   Process name                            GPU Memory |\n",
            "|        ID   ID                                                             Usage      |\n",
            "|=======================================================================================|\n",
            "|  No running processes found                                                           |\n",
            "+---------------------------------------------------------------------------------------+\n"
          ]
        }
      ]
    },
    {
      "cell_type": "code",
      "source": [
        "# Checking for GPU access with PT\n",
        "import torch\n",
        "torch.cuda.is_available()"
      ],
      "metadata": {
        "colab": {
          "base_uri": "https://localhost:8080/"
        },
        "id": "ndRzD6vfmrcj",
        "outputId": "0f888418-43c2-4a0b-98aa-721e71e0292b"
      },
      "execution_count": null,
      "outputs": [
        {
          "output_type": "execute_result",
          "data": {
            "text/plain": [
              "True"
            ]
          },
          "metadata": {},
          "execution_count": 3
        }
      ]
    },
    {
      "cell_type": "code",
      "source": [
        "# Setup device agnostic code\n",
        "device = \"cuda\" if torch.cuda.is_available() else 'cpu'"
      ],
      "metadata": {
        "id": "DVbFcrmmm1xZ"
      },
      "execution_count": null,
      "outputs": []
    },
    {
      "cell_type": "code",
      "source": [
        "# Count no. of GPU\n",
        "torch.cuda.device_count()"
      ],
      "metadata": {
        "colab": {
          "base_uri": "https://localhost:8080/"
        },
        "id": "A17zGU84nDeh",
        "outputId": "7a096f42-966d-4eda-bcb9-107a9b1b85e0"
      },
      "execution_count": null,
      "outputs": [
        {
          "output_type": "execute_result",
          "data": {
            "text/plain": [
              "1"
            ]
          },
          "metadata": {},
          "execution_count": 6
        }
      ]
    },
    {
      "cell_type": "markdown",
      "source": [
        "### Moving tensors to GPU"
      ],
      "metadata": {
        "id": "QoJMGFT7nESH"
      }
    },
    {
      "cell_type": "code",
      "source": [
        "tensor = torch.tensor([1,2,3], device='cpu', requires_grad=False)"
      ],
      "metadata": {
        "id": "IVtnpDOdn4Yz"
      },
      "execution_count": null,
      "outputs": []
    },
    {
      "cell_type": "code",
      "source": [
        "tensor, tensor.device"
      ],
      "metadata": {
        "colab": {
          "base_uri": "https://localhost:8080/"
        },
        "id": "-J8He9gMn7Ot",
        "outputId": "17faad9e-24b4-4cc3-b3e3-c3a4dc91823d"
      },
      "execution_count": null,
      "outputs": [
        {
          "output_type": "execute_result",
          "data": {
            "text/plain": [
              "(tensor([1, 2, 3], device='cuda:0'), device(type='cuda', index=0))"
            ]
          },
          "metadata": {},
          "execution_count": 12
        }
      ]
    },
    {
      "cell_type": "code",
      "source": [
        "tensor_on_gpu = tensor.to(device)\n",
        "tensor_on_gpu"
      ],
      "metadata": {
        "colab": {
          "base_uri": "https://localhost:8080/"
        },
        "id": "sQCTW0mgn9ZO",
        "outputId": "342efc3f-a876-4cfc-8214-9ba3d605865e"
      },
      "execution_count": null,
      "outputs": [
        {
          "output_type": "execute_result",
          "data": {
            "text/plain": [
              "tensor([1, 2, 3], device='cuda:0')"
            ]
          },
          "metadata": {},
          "execution_count": 17
        }
      ]
    },
    {
      "cell_type": "code",
      "source": [
        "## Move tensor back to the CPU\n",
        "tensor_on_cpu = tensor_on_gpu.cpu()"
      ],
      "metadata": {
        "id": "x1GKeRc8occI"
      },
      "execution_count": null,
      "outputs": []
    },
    {
      "cell_type": "code",
      "source": [
        "tensor_on_cpu.numpy()"
      ],
      "metadata": {
        "colab": {
          "base_uri": "https://localhost:8080/"
        },
        "id": "nPFWmwREodre",
        "outputId": "ad1b608a-ddbe-4c23-f863-aa2e8e11b7e1"
      },
      "execution_count": null,
      "outputs": [
        {
          "output_type": "execute_result",
          "data": {
            "text/plain": [
              "array([1, 2, 3])"
            ]
          },
          "metadata": {},
          "execution_count": 22
        }
      ]
    }
  ]
}
